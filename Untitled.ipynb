{
 "cells": [
  {
   "cell_type": "markdown",
   "metadata": {},
   "source": [
    "### For Love of Children - NTP Results\n",
    "\n",
    "There are some limitations performing analysis on what is a relatively small number of data points. It is difficult to both identify and analyze the impact of outliers. That being said, there are insights that can be derived and may be useful in planning changes or future areas of emphasis. "
   ]
  },
  {
   "cell_type": "markdown",
   "metadata": {},
   "source": [
    "After some initial analysis, one thing became clear: the number of tutoring hours a student received is one of the worst predictors of what their improvement will be. Looking at this aspect of the Language! curriculum numbers provides a nice example of that. Below, the three metrics of the WJ-III test are plotted against the number of hours a student received. \n",
    "\n"
   ]
  }
 ],
 "metadata": {
  "kernelspec": {
   "display_name": "Python 2",
   "language": "python",
   "name": "python2"
  },
  "language_info": {
   "codemirror_mode": {
    "name": "ipython",
    "version": 2
   },
   "file_extension": ".py",
   "mimetype": "text/x-python",
   "name": "python",
   "nbconvert_exporter": "python",
   "pygments_lexer": "ipython2",
   "version": "2.7.11"
  }
 },
 "nbformat": 4,
 "nbformat_minor": 0
}
