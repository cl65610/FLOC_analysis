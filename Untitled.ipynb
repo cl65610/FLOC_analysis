{
 "cells": [
  {
   "cell_type": "markdown",
   "metadata": {},
   "source": [
    "### For Love of Children - NTP Results\n",
    "\n",
    "There are some limitations performing analysis on what is a relatively small number of data points. It is difficult to both identify and analyze the impact of outliers. That being said, there are insights that can be derived and may be useful in planning changes or future areas of emphasis. "
   ]
  },
  {
   "cell_type": "markdown",
   "metadata": {},
   "source": [
    "After some initial analysis, one thing became clear: the number of tutoring hours a student received is one of the worst predictors of what their improvement will be. Looking at this aspect of the Language! curriculum numbers provides a nice example of that. Below, the number of hours a student received are plotted against their improvement in the Word Attack section. \n",
    "\n",
    "![word attack vs. hours received](https://raw.githubusercontent.com/cl65610/FLOC_analysis/master/wa_vs_hrs.png \"Word Attack Vs. Hours Received\")\n",
    "\n",
    "While there may appear to be a slight positive relationship, the Pearsonr coefficient (a measure of the correlation between two features) indicates that there is virtually no relationship between these two things in the given data. Put another way, knowing how many hours of instruction a student received explains very little about how much growth they are likely to have. This aspect of the data holds true across all three curricula. Visualizations of this can be found ADD HYPERLINK. \n",
    "\n",
    "\n",
    "After exploring some other trends in the data, a trend in the data began to emerge. A student's pre-testing grade-level gap is a better predictor of the amount of improvement they could be expected to make than anything else. \n",
    "\n",
    "Take for exmaple the following plot which shows a student's grade-level gap on their pre-test in Word Attack, and plots against that the amount of improvement they made in pa"
   ]
  },
  {
   "cell_type": "code",
   "execution_count": null,
   "metadata": {
    "collapsed": true
   },
   "outputs": [],
   "source": []
  }
 ],
 "metadata": {
  "kernelspec": {
   "display_name": "Python 2",
   "language": "python",
   "name": "python2"
  },
  "language_info": {
   "codemirror_mode": {
    "name": "ipython",
    "version": 2
   },
   "file_extension": ".py",
   "mimetype": "text/x-python",
   "name": "python",
   "nbconvert_exporter": "python",
   "pygments_lexer": "ipython2",
   "version": "2.7.11"
  }
 },
 "nbformat": 4,
 "nbformat_minor": 0
}
